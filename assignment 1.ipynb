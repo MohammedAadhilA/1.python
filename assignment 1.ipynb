{
 "cells": [
  {
   "cell_type": "code",
   "execution_count": 1,
   "metadata": {},
   "outputs": [
    {
     "name": "stdout",
     "output_type": "stream",
     "text": [
      "Wolcome to Assignment-1\n"
     ]
    }
   ],
   "source": [
    "print(\"Wolcome to Assignment-1\")"
   ]
  },
  {
   "cell_type": "code",
   "execution_count": null,
   "metadata": {},
   "outputs": [],
   "source": []
  },
  {
   "cell_type": "code",
   "execution_count": 2,
   "metadata": {},
   "outputs": [
    {
     "name": "stdout",
     "output_type": "stream",
     "text": [
      "Add\n",
      "40\n"
     ]
    }
   ],
   "source": [
    "num1=10\n",
    "num2=30\n",
    "add=num1+num2\n",
    "print(\"Add\")\n",
    "print(num1+num2)"
   ]
  },
  {
   "cell_type": "code",
   "execution_count": null,
   "metadata": {},
   "outputs": [],
   "source": []
  },
  {
   "cell_type": "markdown",
   "metadata": {},
   "source": [
    "\n"
   ]
  },
  {
   "cell_type": "markdown",
   "metadata": {},
   "source": [
    "BMI Categories\n",
    "<16=severely underweight\n",
    "16.0-18.4=underweight\n",
    "18.5-24.9=normal\n",
    "25.0-29.9=owerweight\n",
    "30.0-34.9=moderately obese\n",
    "35.0-39.9=severely obese\n"
   ]
  },
  {
   "cell_type": "code",
   "execution_count": 6,
   "metadata": {},
   "outputs": [
    {
     "name": "stdout",
     "output_type": "stream",
     "text": [
      "Enter the weight19\n"
     ]
    }
   ],
   "source": [
    "weight=int(input(\"Enter the weight\"))"
   ]
  },
  {
   "cell_type": "code",
   "execution_count": 16,
   "metadata": {},
   "outputs": [
    {
     "name": "stdout",
     "output_type": "stream",
     "text": [
      "moderately obese\n"
     ]
    }
   ],
   "source": [
    "weight=34.9\n",
    "if(weight<16):\n",
    "    print(\"severely underweight\")\n",
    "elif(weight<18.5):\n",
    "    print(\"underweight\")\n",
    "elif(weight<25):\n",
    "    print(\"normal\")\n",
    "elif(weight<30):\n",
    "    print(\"owerweight\")\n",
    "elif(weight<35):\n",
    "    print(\"moderately obese\")\n",
    "else:\n",
    "    print(\"severely obese\")\n",
    "    "
   ]
  },
  {
   "cell_type": "code",
   "execution_count": null,
   "metadata": {},
   "outputs": [],
   "source": []
  }
 ],
 "metadata": {
  "kernelspec": {
   "display_name": "Python 3",
   "language": "python",
   "name": "python3"
  },
  "language_info": {
   "codemirror_mode": {
    "name": "ipython",
    "version": 3
   },
   "file_extension": ".py",
   "mimetype": "text/x-python",
   "name": "python",
   "nbconvert_exporter": "python",
   "pygments_lexer": "ipython3",
   "version": "3.7.4"
  }
 },
 "nbformat": 4,
 "nbformat_minor": 2
}
